{
 "cells": [
  {
   "cell_type": "code",
   "execution_count": 1,
   "metadata": {
    "_cell_guid": "b1076dfc-b9ad-4769-8c92-a6c4dae69d19",
    "_uuid": "8f2839f25d086af736a60e9eeb907d3b93b6e0e5",
    "colab": {},
    "colab_type": "code",
    "id": "U2D2gTdJVp90"
   },
   "outputs": [],
   "source": [
    "import numpy as np\n",
    "import pandas as pd\n",
    "import seaborn as sns\n",
    "import matplotlib.pyplot as plt\n",
    "from collections import Counter\n",
    "\n",
    "pd.set_option('max_rows', 35)\n",
    "pd.set_option('max_columns', 15)\n",
    "pd.set_option('display.precision', 2)\n",
    "pd.set_option('display.width', 320)"
   ]
  },
  {
   "cell_type": "code",
   "execution_count": 2,
   "metadata": {
    "_cell_guid": "79c7e3d0-c299-4dcb-8224-4455121ee9b0",
    "_uuid": "d629ff2d2480ee46fbb7e2d37f6b5fab8052498a",
    "colab": {},
    "colab_type": "code",
    "id": "oyGfxL3eVp9-",
    "scrolled": true
   },
   "outputs": [],
   "source": [
    "data = pd.read_csv('movie_bd_v5.xls')"
   ]
  },
  {
   "cell_type": "code",
   "execution_count": 3,
   "metadata": {
    "colab": {},
    "colab_type": "code",
    "id": "CoYUnagMVp-C"
   },
   "outputs": [
    {
     "data": {
      "text/html": [
       "<div>\n",
       "<style scoped>\n",
       "    .dataframe tbody tr th:only-of-type {\n",
       "        vertical-align: middle;\n",
       "    }\n",
       "\n",
       "    .dataframe tbody tr th {\n",
       "        vertical-align: top;\n",
       "    }\n",
       "\n",
       "    .dataframe thead th {\n",
       "        text-align: right;\n",
       "    }\n",
       "</style>\n",
       "<table border=\"1\" class=\"dataframe\">\n",
       "  <thead>\n",
       "    <tr style=\"text-align: right;\">\n",
       "      <th></th>\n",
       "      <th>budget</th>\n",
       "      <th>revenue</th>\n",
       "      <th>runtime</th>\n",
       "      <th>vote_average</th>\n",
       "      <th>release_year</th>\n",
       "    </tr>\n",
       "  </thead>\n",
       "  <tbody>\n",
       "    <tr>\n",
       "      <th>count</th>\n",
       "      <td>1.89e+03</td>\n",
       "      <td>1.89e+03</td>\n",
       "      <td>1889.00</td>\n",
       "      <td>1889.00</td>\n",
       "      <td>1889.00</td>\n",
       "    </tr>\n",
       "    <tr>\n",
       "      <th>mean</th>\n",
       "      <td>5.43e+07</td>\n",
       "      <td>1.55e+08</td>\n",
       "      <td>109.66</td>\n",
       "      <td>6.14</td>\n",
       "      <td>2007.86</td>\n",
       "    </tr>\n",
       "    <tr>\n",
       "      <th>std</th>\n",
       "      <td>4.86e+07</td>\n",
       "      <td>2.15e+08</td>\n",
       "      <td>18.02</td>\n",
       "      <td>0.76</td>\n",
       "      <td>4.47</td>\n",
       "    </tr>\n",
       "    <tr>\n",
       "      <th>min</th>\n",
       "      <td>5.00e+06</td>\n",
       "      <td>2.03e+06</td>\n",
       "      <td>63.00</td>\n",
       "      <td>3.30</td>\n",
       "      <td>2000.00</td>\n",
       "    </tr>\n",
       "    <tr>\n",
       "      <th>25%</th>\n",
       "      <td>2.00e+07</td>\n",
       "      <td>3.46e+07</td>\n",
       "      <td>97.00</td>\n",
       "      <td>5.60</td>\n",
       "      <td>2004.00</td>\n",
       "    </tr>\n",
       "    <tr>\n",
       "      <th>50%</th>\n",
       "      <td>3.80e+07</td>\n",
       "      <td>8.36e+07</td>\n",
       "      <td>107.00</td>\n",
       "      <td>6.10</td>\n",
       "      <td>2008.00</td>\n",
       "    </tr>\n",
       "    <tr>\n",
       "      <th>75%</th>\n",
       "      <td>7.20e+07</td>\n",
       "      <td>1.78e+08</td>\n",
       "      <td>120.00</td>\n",
       "      <td>6.60</td>\n",
       "      <td>2012.00</td>\n",
       "    </tr>\n",
       "    <tr>\n",
       "      <th>max</th>\n",
       "      <td>3.80e+08</td>\n",
       "      <td>2.78e+09</td>\n",
       "      <td>214.00</td>\n",
       "      <td>8.10</td>\n",
       "      <td>2015.00</td>\n",
       "    </tr>\n",
       "  </tbody>\n",
       "</table>\n",
       "</div>"
      ],
      "text/plain": [
       "         budget   revenue  runtime  vote_average  release_year\n",
       "count  1.89e+03  1.89e+03  1889.00       1889.00       1889.00\n",
       "mean   5.43e+07  1.55e+08   109.66          6.14       2007.86\n",
       "std    4.86e+07  2.15e+08    18.02          0.76          4.47\n",
       "min    5.00e+06  2.03e+06    63.00          3.30       2000.00\n",
       "25%    2.00e+07  3.46e+07    97.00          5.60       2004.00\n",
       "50%    3.80e+07  8.36e+07   107.00          6.10       2008.00\n",
       "75%    7.20e+07  1.78e+08   120.00          6.60       2012.00\n",
       "max    3.80e+08  2.78e+09   214.00          8.10       2015.00"
      ]
     },
     "execution_count": 3,
     "metadata": {},
     "output_type": "execute_result"
    }
   ],
   "source": [
    "data.describe()"
   ]
  },
  {
   "cell_type": "markdown",
   "metadata": {
    "colab_type": "text",
    "id": "DTIt7ezGVp-G"
   },
   "source": [
    "# Предобработка"
   ]
  },
  {
   "cell_type": "code",
   "execution_count": 5,
   "metadata": {
    "colab": {},
    "colab_type": "code",
    "id": "jNb40DwKVp-H"
   },
   "outputs": [],
   "source": [
    "answers = {} # создадим словарь для ответов\n",
    "\n",
    "# тут другие ваши предобработки колонок например:\n",
    "\n",
    "#the time given in the dataset is in string format.\n",
    "#So we need to change this in datetime format\n",
    "#temper_convertor = lambda x: x.replace('°C', '').strip()\n",
    "#df['Температура'] = df['Температура'].apply(temper_convertor).astype('float64')"
   ]
  },
  {
   "cell_type": "markdown",
   "metadata": {
    "colab_type": "text",
    "id": "YxZaH-nPVp-L"
   },
   "source": [
    "# 1. У какого фильма из списка самый большой бюджет?"
   ]
  },
  {
   "cell_type": "markdown",
   "metadata": {
    "colab_type": "text",
    "id": "Nd-G5gX6Vp-M"
   },
   "source": [
    "Использовать варианты ответов в коде решения запрещено.    \n",
    "Вы думаете и в жизни у вас будут варианты ответов?)"
   ]
  },
  {
   "cell_type": "code",
   "execution_count": 6,
   "metadata": {
    "colab": {},
    "colab_type": "code",
    "id": "uVnXAY5RVp-O"
   },
   "outputs": [],
   "source": [
    "# в словарь вставляем номер вопроса и ваш ответ на него\n",
    "# Пример: \n",
    "#answers['1'] = '2. Spider-Man 3 (tt0413300)'\n",
    "# запишите свой вариант ответа\n",
    "answers['1'] = 'Pirates of the Caribbean: On Stranger Tides (tt1298650)'\n",
    "# если ответили верно, можете добавить комментарий со значком \"+\""
   ]
  },
  {
   "cell_type": "code",
   "execution_count": 7,
   "metadata": {
    "colab": {},
    "colab_type": "code",
    "id": "dZwb3m28Vp-S"
   },
   "outputs": [
    {
     "name": "stdout",
     "output_type": "stream",
     "text": [
      "imdb_id                                                         tt1298650\n",
      "budget                                                          380000000\n",
      "revenue                                                        1021683000\n",
      "original_title                Pirates of the Caribbean: On Stranger Tides\n",
      "cast                    Johnny Depp|PenÃ©lope Cruz|Geoffrey Rush|Ian M...\n",
      "director                                                     Rob Marshall\n",
      "tagline                                       Live Forever Or Die Trying.\n",
      "overview                Captain Jack Sparrow crosses paths with a woma...\n",
      "runtime                                                               136\n",
      "genres                                           Adventure|Action|Fantasy\n",
      "production_companies    Walt Disney Pictures|Jerry Bruckheimer Films|M...\n",
      "release_date                                                    5/11/2011\n",
      "vote_average                                                          6.3\n",
      "release_year                                                         2011\n",
      "Name: 723, dtype: object\n"
     ]
    }
   ],
   "source": [
    "bb = data['budget'].idxmax()\n",
    "print(data.iloc[bb])"
   ]
  },
  {
   "cell_type": "markdown",
   "metadata": {
    "colab_type": "text",
    "id": "K7L3nbRXVp-X"
   },
   "source": [
    "ВАРИАНТ 2"
   ]
  },
  {
   "cell_type": "code",
   "execution_count": 0,
   "metadata": {
    "colab": {},
    "colab_type": "code",
    "id": "OGaoQI7rVp-X"
   },
   "outputs": [],
   "source": [
    "# можно добавлять разные варианты решения"
   ]
  },
  {
   "cell_type": "markdown",
   "metadata": {
    "colab_type": "text",
    "id": "FNRbbI3vVp-c"
   },
   "source": [
    "# 2. Какой из фильмов самый длительный (в минутах)?"
   ]
  },
  {
   "cell_type": "code",
   "execution_count": 8,
   "metadata": {
    "colab": {},
    "colab_type": "code",
    "id": "vHAoEXNTVp-d"
   },
   "outputs": [],
   "source": [
    "# думаю логику работы с этим словарем вы уже поняли, \n",
    "# по этому не буду больше его дублировать\n",
    "answers['2'] = 'Gods and Generals (tt0279111)'"
   ]
  },
  {
   "cell_type": "code",
   "execution_count": 9,
   "metadata": {
    "colab": {},
    "colab_type": "code",
    "id": "ot-VX2XrVp-g"
   },
   "outputs": [
    {
     "name": "stdout",
     "output_type": "stream",
     "text": [
      "imdb_id                                                         tt0279111\n",
      "budget                                                           56000000\n",
      "revenue                                                          12923936\n",
      "original_title                                          Gods and Generals\n",
      "cast                    Stephen Lang|Jeff Daniels|Robert Duvall|Kevin ...\n",
      "director                                                Ronald F. Maxwell\n",
      "tagline                               The nations heart was touched by...\n",
      "overview                The film centers mostly around the personal an...\n",
      "runtime                                                               214\n",
      "genres                                                  Drama|History|War\n",
      "production_companies                   Turner Pictures|Antietam Filmworks\n",
      "release_date                                                    2/21/2003\n",
      "vote_average                                                          5.8\n",
      "release_year                                                         2003\n",
      "Name: 1157, dtype: object\n"
     ]
    }
   ],
   "source": [
    "tt_max = data['runtime'].idxmax()\n",
    "print(data.iloc[tt_max])"
   ]
  },
  {
   "cell_type": "markdown",
   "metadata": {
    "colab_type": "text",
    "id": "bapLlpW8Vp-k"
   },
   "source": [
    "# 3. Какой из фильмов самый короткий (в минутах)?\n",
    "\n",
    "\n",
    "\n"
   ]
  },
  {
   "cell_type": "code",
   "execution_count": 10,
   "metadata": {
    "colab": {},
    "colab_type": "code",
    "id": "YBxaSHuAVp-l"
   },
   "outputs": [],
   "source": [
    "answers['3'] = 'Winnie the Pooh (tt1449283)'"
   ]
  },
  {
   "cell_type": "code",
   "execution_count": 11,
   "metadata": {},
   "outputs": [
    {
     "name": "stdout",
     "output_type": "stream",
     "text": [
      "imdb_id                                                         tt1449283\n",
      "budget                                                           30000000\n",
      "revenue                                                          14460000\n",
      "original_title                                            Winnie the Pooh\n",
      "cast                    Jim Cummings|Travis Oates|Jim Cummings|Bud Luc...\n",
      "director                                        Stephen Anderson|Don Hall\n",
      "tagline                                                          Oh Pooh.\n",
      "overview                During an ordinary day in Hundred Acre Wood, W...\n",
      "runtime                                                                63\n",
      "genres                                                   Animation|Family\n",
      "production_companies    Walt Disney Pictures|Walt Disney Animation Stu...\n",
      "release_date                                                    4/13/2011\n",
      "vote_average                                                          6.8\n",
      "release_year                                                         2011\n",
      "Name: 768, dtype: object\n"
     ]
    }
   ],
   "source": [
    "tt_min = data['runtime'].idxmin()\n",
    "print(data.iloc[tt_min])"
   ]
  },
  {
   "cell_type": "markdown",
   "metadata": {
    "colab_type": "text",
    "id": "TfQbxbfNVp-p"
   },
   "source": [
    "# 4. Какова средняя длительность фильмов?\n"
   ]
  },
  {
   "cell_type": "code",
   "execution_count": 12,
   "metadata": {},
   "outputs": [],
   "source": [
    "answers['4'] = 110"
   ]
  },
  {
   "cell_type": "code",
   "execution_count": 13,
   "metadata": {
    "colab": {},
    "colab_type": "code",
    "id": "5K6dKZYVVp-q"
   },
   "outputs": [
    {
     "data": {
      "text/plain": [
       "109.6585494970884"
      ]
     },
     "execution_count": 13,
     "metadata": {},
     "output_type": "execute_result"
    }
   ],
   "source": [
    "data.runtime.describe()['mean']"
   ]
  },
  {
   "cell_type": "markdown",
   "metadata": {
    "colab_type": "text",
    "id": "r5TvbnT_Vp-u"
   },
   "source": [
    "# 5. Каково медианное значение длительности фильмов? "
   ]
  },
  {
   "cell_type": "code",
   "execution_count": 14,
   "metadata": {
    "colab": {},
    "colab_type": "code",
    "id": "iBROplKnVp-v"
   },
   "outputs": [],
   "source": [
    "answers['5'] = 107"
   ]
  },
  {
   "cell_type": "code",
   "execution_count": 15,
   "metadata": {},
   "outputs": [
    {
     "data": {
      "text/plain": [
       "107.0"
      ]
     },
     "execution_count": 15,
     "metadata": {},
     "output_type": "execute_result"
    }
   ],
   "source": [
    "data.runtime.median()"
   ]
  },
  {
   "cell_type": "markdown",
   "metadata": {
    "colab_type": "text",
    "id": "39P-deDSVp-y"
   },
   "source": [
    "# 6. Какой самый прибыльный фильм?\n",
    "#### Внимание! Здесь и далее под «прибылью» или «убытками» понимается разность между сборами и бюджетом фильма. (прибыль = сборы - бюджет) в нашем датасете это будет (profit = revenue - budget) "
   ]
  },
  {
   "cell_type": "code",
   "execution_count": 16,
   "metadata": {},
   "outputs": [],
   "source": [
    "answers['6'] = 'Avatar (tt0499549)'"
   ]
  },
  {
   "cell_type": "code",
   "execution_count": 17,
   "metadata": {
    "colab": {},
    "colab_type": "code",
    "id": "UYZh4T9WVp-y"
   },
   "outputs": [
    {
     "name": "stdout",
     "output_type": "stream",
     "text": [
      "        imdb_id     budget     revenue      profit                original_title                                               cast               director                         tagline                                           overview  runtime                                     genres  \\\n",
      "239   tt0499549  237000000  2781505847  2544505847                        Avatar  Sam Worthington|Zoe Saldana|Sigourney Weaver|S...          James Cameron     Enter the World of Pandora.  In the 22nd century, a paraplegic Marine is di...      162   Action|Adventure|Fantasy|Science Fiction   \n",
      "3     tt2488496  200000000  2068178225  1868178225  Star Wars: The Force Awakens  Harrison Ford|Mark Hamill|Carrie Fisher|Adam D...            J.J. Abrams   Every generation has a story.  Thirty years after defeating the Galactic Empi...      136   Action|Adventure|Science Fiction|Fantasy   \n",
      "0     tt0369610  150000000  1513528810  1363528810                Jurassic World  Chris Pratt|Bryce Dallas Howard|Irrfan Khan|Vi...        Colin Trevorrow               The park is open.  Twenty-two years after the events of Jurassic ...      124  Action|Adventure|Science Fiction|Thriller   \n",
      "4     tt2820852  190000000  1506249360  1316249360                     Furious 7  Vin Diesel|Paul Walker|Jason Statham|Michelle ...              James Wan             Vengeance Hits Home  Deckard Shaw seeks revenge against Dominic Tor...      137                      Action|Crime|Thriller   \n",
      "970   tt0848228  220000000  1519557910  1299557910                  The Avengers  Robert Downey Jr.|Chris Evans|Mark Ruffalo|Chr...            Joss Whedon         Some assembly required.  When an unexpected enemy emerges and threatens...      143           Science Fiction|Action|Adventure   \n",
      "...         ...        ...         ...         ...                           ...                                                ...                    ...                             ...                                                ...      ...                                        ...   \n",
      "1464  tt0424095  149000000    64459316   -84540684                  Flushed Away  Hugh Jackman|Kate Winslet|Ian McKellen|Jean Re...  David Bowers|Sam Fell            Someone's Going Down  London high-society mouse, Roddy is flushed do...       85          Adventure|Animation|Comedy|Family   \n",
      "958   tt0180052  100000000     7103973   -92896027  The Adventures of Pluto Nash  Eddie Murphy|Randy Quaid|Rosario Dawson|Joe Pa...          Ron Underwood  Action's future has arrived...  The year is 2087, the setting is the moon. Edd...       95              Action|Comedy|Science Fiction   \n",
      "809   tt1305591  150000000    38992758  -111007242               Mars Needs Moms  Seth Green|Joan Cusack|Dan Fogler|Breckin Meye...            Simon Wells       Mom needs a little space.  When Martians suddenly abduct his mom, mischie...       88                 Adventure|Animation|Family   \n",
      "1616  tt0318974  145000000    25819961  -119180039                     The Alamo  Dennis Quaid|Billy Bob Thornton|Jason Patric|P...       John Lee Hancock           You will never forget  Based on the 1836 standoff between a group of ...      137                        Western|History|War   \n",
      "1245  tt1210819  255000000    89289910  -165710090               The Lone Ranger  Johnny Depp|Armie Hammer|William Fichtner|Hele...         Gore Verbinski         Never Take Off the Mask  The Texas Rangers chase down a gang of outlaws...      149                   Action|Adventure|Western   \n",
      "\n",
      "                                   production_companies release_date  vote_average  release_year  \n",
      "239   Ingenious Film Partners|Twentieth Century Fox ...   12/10/2009           7.1          2009  \n",
      "3             Lucasfilm|Truenorth Productions|Bad Robot   12/15/2015           7.5          2015  \n",
      "0     Universal Studios|Amblin Entertainment|Legenda...     6/9/2015           6.5          2015  \n",
      "4     Universal Pictures|Original Film|Media Rights ...     4/1/2015           7.3          2015  \n",
      "970                                      Marvel Studios    4/25/2012           7.3          2012  \n",
      "...                                                 ...          ...           ...           ...  \n",
      "1464            Aardman Animations|DreamWorks Animation   10/22/2006           6.0          2006  \n",
      "958   Village Roadshow Pictures|Castle Rock Entertai...    8/15/2002           4.6          2002  \n",
      "809                       Walt Disney Animation Studios     3/9/2011           5.5          2011  \n",
      "1616          Imagine Entertainment|Touchstone Pictures     4/7/2004           5.9          2004  \n",
      "1245  Walt Disney Pictures|Jerry Bruckheimer Films|I...     7/3/2013           6.0          2013  \n",
      "\n",
      "[1889 rows x 15 columns]\n"
     ]
    }
   ],
   "source": [
    "cols = ['imdb_id', 'budget', 'revenue', 'profit', 'original_title', 'cast', 'director', 'tagline', 'overview', 'runtime', 'genres', 'production_companies', 'release_date', 'vote_average', 'release_year']\n",
    "\n",
    "data['profit'] = data['revenue'] - data['budget']\n",
    "\n",
    "movies_df = data[cols]\n",
    "print(movies_df.sort_values(by = ['profit'], ascending=False))"
   ]
  },
  {
   "cell_type": "markdown",
   "metadata": {
    "colab_type": "text",
    "id": "M99JmIX4Vp-2"
   },
   "source": [
    "# 7. Какой фильм самый убыточный? "
   ]
  },
  {
   "cell_type": "code",
   "execution_count": 18,
   "metadata": {},
   "outputs": [],
   "source": [
    "answers['7'] = 'The Lone Ranger (tt1210819)'"
   ]
  },
  {
   "cell_type": "code",
   "execution_count": 19,
   "metadata": {
    "colab": {},
    "colab_type": "code",
    "id": "w-D2m4XPVp-3"
   },
   "outputs": [
    {
     "name": "stdout",
     "output_type": "stream",
     "text": [
      "        imdb_id     budget     revenue      profit                original_title                                               cast               director                         tagline                                           overview  runtime                                     genres  \\\n",
      "239   tt0499549  237000000  2781505847  2544505847                        Avatar  Sam Worthington|Zoe Saldana|Sigourney Weaver|S...          James Cameron     Enter the World of Pandora.  In the 22nd century, a paraplegic Marine is di...      162   Action|Adventure|Fantasy|Science Fiction   \n",
      "3     tt2488496  200000000  2068178225  1868178225  Star Wars: The Force Awakens  Harrison Ford|Mark Hamill|Carrie Fisher|Adam D...            J.J. Abrams   Every generation has a story.  Thirty years after defeating the Galactic Empi...      136   Action|Adventure|Science Fiction|Fantasy   \n",
      "0     tt0369610  150000000  1513528810  1363528810                Jurassic World  Chris Pratt|Bryce Dallas Howard|Irrfan Khan|Vi...        Colin Trevorrow               The park is open.  Twenty-two years after the events of Jurassic ...      124  Action|Adventure|Science Fiction|Thriller   \n",
      "4     tt2820852  190000000  1506249360  1316249360                     Furious 7  Vin Diesel|Paul Walker|Jason Statham|Michelle ...              James Wan             Vengeance Hits Home  Deckard Shaw seeks revenge against Dominic Tor...      137                      Action|Crime|Thriller   \n",
      "970   tt0848228  220000000  1519557910  1299557910                  The Avengers  Robert Downey Jr.|Chris Evans|Mark Ruffalo|Chr...            Joss Whedon         Some assembly required.  When an unexpected enemy emerges and threatens...      143           Science Fiction|Action|Adventure   \n",
      "...         ...        ...         ...         ...                           ...                                                ...                    ...                             ...                                                ...      ...                                        ...   \n",
      "1464  tt0424095  149000000    64459316   -84540684                  Flushed Away  Hugh Jackman|Kate Winslet|Ian McKellen|Jean Re...  David Bowers|Sam Fell            Someone's Going Down  London high-society mouse, Roddy is flushed do...       85          Adventure|Animation|Comedy|Family   \n",
      "958   tt0180052  100000000     7103973   -92896027  The Adventures of Pluto Nash  Eddie Murphy|Randy Quaid|Rosario Dawson|Joe Pa...          Ron Underwood  Action's future has arrived...  The year is 2087, the setting is the moon. Edd...       95              Action|Comedy|Science Fiction   \n",
      "809   tt1305591  150000000    38992758  -111007242               Mars Needs Moms  Seth Green|Joan Cusack|Dan Fogler|Breckin Meye...            Simon Wells       Mom needs a little space.  When Martians suddenly abduct his mom, mischie...       88                 Adventure|Animation|Family   \n",
      "1616  tt0318974  145000000    25819961  -119180039                     The Alamo  Dennis Quaid|Billy Bob Thornton|Jason Patric|P...       John Lee Hancock           You will never forget  Based on the 1836 standoff between a group of ...      137                        Western|History|War   \n",
      "1245  tt1210819  255000000    89289910  -165710090               The Lone Ranger  Johnny Depp|Armie Hammer|William Fichtner|Hele...         Gore Verbinski         Never Take Off the Mask  The Texas Rangers chase down a gang of outlaws...      149                   Action|Adventure|Western   \n",
      "\n",
      "                                   production_companies release_date  vote_average  release_year  \n",
      "239   Ingenious Film Partners|Twentieth Century Fox ...   12/10/2009           7.1          2009  \n",
      "3             Lucasfilm|Truenorth Productions|Bad Robot   12/15/2015           7.5          2015  \n",
      "0     Universal Studios|Amblin Entertainment|Legenda...     6/9/2015           6.5          2015  \n",
      "4     Universal Pictures|Original Film|Media Rights ...     4/1/2015           7.3          2015  \n",
      "970                                      Marvel Studios    4/25/2012           7.3          2012  \n",
      "...                                                 ...          ...           ...           ...  \n",
      "1464            Aardman Animations|DreamWorks Animation   10/22/2006           6.0          2006  \n",
      "958   Village Roadshow Pictures|Castle Rock Entertai...    8/15/2002           4.6          2002  \n",
      "809                       Walt Disney Animation Studios     3/9/2011           5.5          2011  \n",
      "1616          Imagine Entertainment|Touchstone Pictures     4/7/2004           5.9          2004  \n",
      "1245  Walt Disney Pictures|Jerry Bruckheimer Films|I...     7/3/2013           6.0          2013  \n",
      "\n",
      "[1889 rows x 15 columns]\n"
     ]
    }
   ],
   "source": [
    "print(movies_df.sort_values(by = ['profit'], ascending=False))"
   ]
  },
  {
   "cell_type": "markdown",
   "metadata": {
    "colab_type": "text",
    "id": "wEOM5ERVVp-6"
   },
   "source": [
    "# 8. У скольких фильмов из датасета объем сборов оказался выше бюджета?"
   ]
  },
  {
   "cell_type": "code",
   "execution_count": 20,
   "metadata": {
    "colab": {},
    "colab_type": "code",
    "id": "y00_7HD6Vp-7"
   },
   "outputs": [],
   "source": [
    "answers['8'] = 1478"
   ]
  },
  {
   "cell_type": "code",
   "execution_count": 21,
   "metadata": {},
   "outputs": [
    {
     "name": "stdout",
     "output_type": "stream",
     "text": [
      "        imdb_id     budget     revenue      profit                original_title                                               cast               director                                            tagline                                           overview  runtime                                     genres  \\\n",
      "0     tt0369610  150000000  1513528810  1363528810                Jurassic World  Chris Pratt|Bryce Dallas Howard|Irrfan Khan|Vi...        Colin Trevorrow                                  The park is open.  Twenty-two years after the events of Jurassic ...      124  Action|Adventure|Science Fiction|Thriller   \n",
      "1     tt1392190  150000000   378436354   228436354            Mad Max: Fury Road  Tom Hardy|Charlize Theron|Hugh Keays-Byrne|Nic...          George Miller                                 What a Lovely Day.  An apocalyptic story set in the furthest reach...      120  Action|Adventure|Science Fiction|Thriller   \n",
      "2     tt2908446  110000000   295238201   185238201                     Insurgent  Shailene Woodley|Theo James|Kate Winslet|Ansel...       Robert Schwentke                         One Choice Can Destroy You  Beatrice Prior must confront her inner demons ...      119         Adventure|Science Fiction|Thriller   \n",
      "3     tt2488496  200000000  2068178225  1868178225  Star Wars: The Force Awakens  Harrison Ford|Mark Hamill|Carrie Fisher|Adam D...            J.J. Abrams                      Every generation has a story.  Thirty years after defeating the Galactic Empi...      136   Action|Adventure|Science Fiction|Fantasy   \n",
      "4     tt2820852  190000000  1506249360  1316249360                     Furious 7  Vin Diesel|Paul Walker|Jason Statham|Michelle ...              James Wan                                Vengeance Hits Home  Deckard Shaw seeks revenge against Dominic Tor...      137                      Action|Crime|Thriller   \n",
      "...         ...        ...         ...         ...                           ...                                                ...                    ...                                                ...                                                ...      ...                                        ...   \n",
      "1871  tt0171433   30000000    37036004     7036004             Keeping the Faith  Ben Stiller|Edward Norton|Jenna Elfman|Anne Ba...          Edward Norton  If you have to believe in something, you may a...  Best friends since they were kids, Rabbi Jacob...      127                                     Comedy   \n",
      "1875  tt0219854   65000000    69700000     4700000                       The Kid  Bruce Willis|Spencer Breslin|Emily Mortimer|Li...         Jon Turteltaub     Nobody ever grows up quite like they imagined.  Powerful businessman Russ Duritz is self-absor...      104                      Fantasy|Comedy|Family   \n",
      "1877  tt0199725   20000000    27728118     7728118             Love & Basketball  Chris Warren, Jr.|Kyla Pratt|Sanaa Lathan|Omar...  Gina Prince-Bythewood                 All's fair in love and basketball.  A young African-American couple navigates the ...      124                Action|Comedy|Drama|Romance   \n",
      "1883  tt0122459   24000000    36609995    12609995                  Return to Me  David Duchovny|Minnie Driver|Carroll O'Connor|...            Bonnie Hunt                   A comedy straight from the heart  It took a lot of cajoling to get Bob (Duchovny...      115                       Romance|Comedy|Drama   \n",
      "1884  tt0120903   75000000   157299717    82299717                         X-Men  Patrick Stewart|Hugh Jackman|Ian McKellen|Hall...           Bryan Singer                                   Evolution Begins  Two mutants, Rogue and Wolverine, come to a pr...      104           Adventure|Action|Science Fiction   \n",
      "\n",
      "                                   production_companies release_date  vote_average  release_year  \n",
      "0     Universal Studios|Amblin Entertainment|Legenda...     6/9/2015           6.5          2015  \n",
      "1     Village Roadshow Pictures|Kennedy Miller Produ...    5/13/2015           7.1          2015  \n",
      "2     Summit Entertainment|Mandeville Films|Red Wago...    3/18/2015           6.3          2015  \n",
      "3             Lucasfilm|Truenorth Productions|Bad Robot   12/15/2015           7.5          2015  \n",
      "4     Universal Pictures|Original Film|Media Rights ...     4/1/2015           7.3          2015  \n",
      "...                                                 ...          ...           ...           ...  \n",
      "1871  Spyglass Entertainment|Touchstone Pictures|Tri...    4/14/2000           5.7          2000  \n",
      "1875                               Walt Disney Pictures     7/7/2000           5.9          2000  \n",
      "1877                        40 Acres & A Mule Filmworks    4/21/2000           7.3          2000  \n",
      "1883          Metro-Goldwyn-Mayer (MGM)|JLT Productions     4/7/2000           5.5          2000  \n",
      "1884  Twentieth Century Fox Film Corporation|Donners...    7/13/2000           6.6          2000  \n",
      "\n",
      "[1478 rows x 15 columns]\n"
     ]
    }
   ],
   "source": [
    "print(movies_df[movies_df['revenue'] > movies_df['budget']])"
   ]
  },
  {
   "cell_type": "markdown",
   "metadata": {
    "colab_type": "text",
    "id": "xhpspA9KVp_A"
   },
   "source": [
    "# 9. Какой фильм оказался самым кассовым в 2008 году?"
   ]
  },
  {
   "cell_type": "code",
   "execution_count": 22,
   "metadata": {},
   "outputs": [],
   "source": [
    "answers['9'] = 'The Dark Knight (tt0468569)'"
   ]
  },
  {
   "cell_type": "code",
   "execution_count": 23,
   "metadata": {
    "colab": {},
    "colab_type": "code",
    "id": "MoUyQr9RVp_B"
   },
   "outputs": [
    {
     "name": "stdout",
     "output_type": "stream",
     "text": [
      "       imdb_id     budget     revenue     profit                                     original_title                                               cast                      director                                            tagline                                           overview  runtime  \\\n",
      "599  tt0468569  185000000  1001921825  816921825                                    The Dark Knight  Christian Bale|Michael Caine|Heath Ledger|Aaro...             Christopher Nolan                                    Why So Serious?  Batman raises the stakes in his war on crime. ...      152   \n",
      "600  tt0910970  180000000   521311860  341311860                                            WALLÂ·E  Ben Burtt|Elissa Knight|Jeff Garlin|Fred Willa...                Andrew Stanton                 An adventure beyond the ordinar-E.  WALLÂ·E is the last robot left on an Earth tha...       98   \n",
      "601  tt0371746  140000000   585174222  445174222                                           Iron Man  Robert Downey Jr.|Terrence Howard|Jeff Bridges...                   Jon Favreau                 Heroes aren't born. They're built.  After being held captive in an Afghan cave, bi...      126   \n",
      "602  tt0936501   25000000   226830568  201830568                                              Taken  Liam Neeson|Famke Janssen|Maggie Grace|Katie C...                  Pierre Morel   They took his daughter.  He'll take their lives.  While vacationing with a friend in Paris, an A...       93   \n",
      "603  tt0367882  185000000   786636033  601636033  Indiana Jones and the Kingdom of the Crystal S...  Harrison Ford|Cate Blanchett|Shia LaBeouf|Ray ...              Steven Spielberg                      The adventure continues . . .  Set during the Cold War, the Soviets â€“ led b...      122   \n",
      "..         ...        ...         ...        ...                                                ...                                                ...                           ...                                                ...                                                ...      ...   \n",
      "715  tt0858479    7000000    10569964    3569964                                       Smart People  Dennis Quaid|Sarah Jessica Parker|Ellen Page|T...                    Noam Murro  Sometimes the smartest people have the most to...  Professor Lawrence Wetherhold (Dennis Quaid) m...       95   \n",
      "716  tt0410377   37000000   100076342   63076342                                       Nim's Island  Abigail Breslin|Jodie Foster|Gerard Butler|Mic...  Jennifer Flackett|Mark Levin                        Your adventure starts here.  A young girl inhabits an isolated island with ...       96   \n",
      "717  tt0465502   25000000    30000000    5000000                                               Igor  John Cusack|Myleene Klass|Robin Walsh|Matt McK...               Anthony Leondis                       All men aren't created Evil.  Animated fable about a clichÃ© hunchbacked evi...       87   \n",
      "718  tt0455538   27000000    17286299   -9713701              How to Lose Friends & Alienate People  Kelan Pannell|Janette Scott|Simon Pegg|Megan F...               Robert B. Weide        He's across the pond, and out of his depth.  A British writer struggles to fit in at a high...      110   \n",
      "719  tt0494652   35000000    43650785    8650785                        Welcome Home Roscoe Jenkins  Martin Lawrence|James Earl Jones|Margaret Aver...                Malcolm D. Lee  Roscoe Jenkins aims for the heartstrings and f...  Martin Lawrence leads an all-star cast, includ...      114   \n",
      "\n",
      "                               genres                               production_companies release_date  vote_average  release_year  \n",
      "599       Drama|Action|Crime|Thriller  DC Comics|Legendary Pictures|Warner Bros.|Syncopy    7/16/2008           8.1          2008  \n",
      "600                  Animation|Family       Walt Disney Pictures|Pixar Animation Studios    6/22/2008           7.6          2008  \n",
      "601  Action|Science Fiction|Adventure                                     Marvel Studios    4/30/2008           7.3          2008  \n",
      "602             Action|Thriller|Crime  Twentieth Century Fox Film Corporation|M6 Film...    2/18/2008           7.2          2008  \n",
      "603                  Adventure|Action                       Lucasfilm|Paramount Pictures    5/21/2008           5.6          2008  \n",
      "..                                ...                                                ...          ...           ...           ...  \n",
      "715              Comedy|Drama|Romance  Miramax Films|Sherazade Film Development|Groun...    4/11/2008           5.5          2008  \n",
      "716   Adventure|Comedy|Family|Fantasy                                       Walden Media     4/3/2008           5.5          2008  \n",
      "717   Animation|Comedy|Family|Fantasy               Exodus Film Group|Exodus Productions    9/19/2008           5.4          2008  \n",
      "718              Comedy|Romance|Drama  UK Film Council|Intandem Films|Aramid Entertai...    10/2/2008           6.0          2008  \n",
      "719                      Comedy|Drama          Universal Pictures|Spyglass Entertainment     2/8/2008           6.1          2008  \n",
      "\n",
      "[121 rows x 15 columns] ['profit']\n"
     ]
    }
   ],
   "source": [
    "print(movies_df[movies_df['release_year'] == 2008],['profit'])"
   ]
  },
  {
   "cell_type": "markdown",
   "metadata": {
    "colab_type": "text",
    "id": "Zi4hDKidVp_F"
   },
   "source": [
    "# 10. Самый убыточный фильм за период с 2012 по 2014 г. (включительно)?\n"
   ]
  },
  {
   "cell_type": "code",
   "execution_count": 24,
   "metadata": {
    "colab": {},
    "colab_type": "code",
    "id": "XqyRmufJVp_F"
   },
   "outputs": [],
   "source": [
    "answers['10'] = 'The Lone Ranger (tt1210819)'"
   ]
  },
  {
   "cell_type": "code",
   "execution_count": 25,
   "metadata": {},
   "outputs": [
    {
     "name": "stdout",
     "output_type": "stream",
     "text": [
      "imdb_id                                                         tt1210819\n",
      "budget                                                          255000000\n",
      "revenue                                                          89289910\n",
      "profit                                                         -165710090\n",
      "original_title                                            The Lone Ranger\n",
      "cast                    Johnny Depp|Armie Hammer|William Fichtner|Hele...\n",
      "director                                                   Gore Verbinski\n",
      "tagline                                           Never Take Off the Mask\n",
      "overview                The Texas Rangers chase down a gang of outlaws...\n",
      "runtime                                                               149\n",
      "genres                                           Action|Adventure|Western\n",
      "production_companies    Walt Disney Pictures|Jerry Bruckheimer Films|I...\n",
      "release_date                                                     7/3/2013\n",
      "vote_average                                                            6\n",
      "release_year                                                         2013\n",
      "Name: 1245, dtype: object\n"
     ]
    }
   ],
   "source": [
    "bb = movies_df[(movies_df['release_year'] > 2012)&(movies_df['release_year'] <= 2014)].profit.idxmin()\n",
    "print(movies_df.iloc[bb])"
   ]
  },
  {
   "cell_type": "markdown",
   "metadata": {
    "colab_type": "text",
    "id": "EA7Sa9dkVp_I"
   },
   "source": [
    "# 11. Какого жанра фильмов больше всего?"
   ]
  },
  {
   "cell_type": "code",
   "execution_count": 26,
   "metadata": {},
   "outputs": [],
   "source": [
    "answers['11'] = 'Comedy'"
   ]
  },
  {
   "cell_type": "code",
   "execution_count": 27,
   "metadata": {
    "colab": {},
    "colab_type": "code",
    "id": "zsJAwJ8QVp_J"
   },
   "outputs": [
    {
     "name": "stdout",
     "output_type": "stream",
     "text": [
      "Comedy                                   141\n",
      "Drama                                    102\n",
      "Comedy|Romance                            60\n",
      "Drama|Romance                             45\n",
      "Comedy|Drama|Romance                      35\n",
      "                                        ... \n",
      "Thriller|Science Fiction|Drama             1\n",
      "Adventure|Drama|Science Fiction            1\n",
      "Comedy|Crime|Action                        1\n",
      "Science Fiction|Comedy|Family|Romance      1\n",
      "Comedy|Family|Fantasy|Science Fiction      1\n",
      "Name: genres, Length: 652, dtype: int64\n"
     ]
    }
   ],
   "source": [
    "print(movies_df['genres'].value_counts())"
   ]
  },
  {
   "cell_type": "markdown",
   "metadata": {
    "colab_type": "text",
    "id": "Ax6g2C8SVp_M"
   },
   "source": [
    "ВАРИАНТ 2"
   ]
  },
  {
   "cell_type": "code",
   "execution_count": 0,
   "metadata": {
    "colab": {},
    "colab_type": "code",
    "id": "otO3SbrSVp_N"
   },
   "outputs": [],
   "source": []
  },
  {
   "cell_type": "markdown",
   "metadata": {
    "colab_type": "text",
    "id": "T9_bPWpkVp_Q"
   },
   "source": [
    "# 12. Фильмы какого жанра чаще всего становятся прибыльными? "
   ]
  },
  {
   "cell_type": "code",
   "execution_count": 28,
   "metadata": {
    "colab": {},
    "colab_type": "code",
    "id": "Tmt8MaK1Vp_R"
   },
   "outputs": [],
   "source": [
    "answers['12'] = 'Action'"
   ]
  },
  {
   "cell_type": "code",
   "execution_count": 29,
   "metadata": {},
   "outputs": [
    {
     "name": "stdout",
     "output_type": "stream",
     "text": [
      "genres  budget  \n",
      "Action  28000000    1\n",
      "        29000000    1\n",
      "        35000000    1\n",
      "        38000000    1\n",
      "        40000000    2\n",
      "dtype: int64\n"
     ]
    }
   ],
   "source": [
    "print(movies_df.groupby(['genres', 'budget']).size().head())"
   ]
  },
  {
   "cell_type": "markdown",
   "metadata": {
    "colab_type": "text",
    "id": "0F23bgsDVp_U"
   },
   "source": [
    "# 13. У какого режиссера самые большие суммарные кассовые сбооры?"
   ]
  },
  {
   "cell_type": "code",
   "execution_count": 30,
   "metadata": {
    "colab": {},
    "colab_type": "code",
    "id": "K6Z3J8ygVp_X"
   },
   "outputs": [],
   "source": [
    "answers['13'] = 'James Cameron'"
   ]
  },
  {
   "cell_type": "code",
   "execution_count": 31,
   "metadata": {},
   "outputs": [
    {
     "name": "stdout",
     "output_type": "stream",
     "text": [
      "                             size\n",
      "director         revenue         \n",
      "Simon Hunter     2033165        1\n",
      "Keanu Reeves     2054941        1\n",
      "Paul Schrader    2062066        1\n",
      "Simon West       2106557        1\n",
      "Steven Shainberg 2281089        1\n",
      "...                           ...\n",
      "James Wan        1506249360     1\n",
      "Colin Trevorrow  1513528810     1\n",
      "Joss Whedon      1519557910     1\n",
      "J.J. Abrams      2068178225     1\n",
      "James Cameron    2781505847     1\n",
      "\n",
      "[1889 rows x 1 columns]\n"
     ]
    }
   ],
   "source": [
    "print(movies_df.groupby(['director', 'revenue']).size().to_frame('size').sort_values(['revenue', 'size'], ascending=[True, False]))"
   ]
  },
  {
   "cell_type": "markdown",
   "metadata": {
    "colab_type": "text",
    "id": "PsYC9FgRVp_a"
   },
   "source": [
    "# 14. Какой режисер снял больше всего фильмов в стиле Action?"
   ]
  },
  {
   "cell_type": "code",
   "execution_count": 37,
   "metadata": {
    "colab": {},
    "colab_type": "code",
    "id": "wd2M-wHeVp_b"
   },
   "outputs": [],
   "source": [
    "answers['14'] = 0"
   ]
  },
  {
   "cell_type": "markdown",
   "metadata": {
    "colab_type": "text",
    "id": "PQ0KciD7Vp_f"
   },
   "source": [
    "# 15. Фильмы с каким актером принесли самые высокие кассовые сборы в 2012 году? "
   ]
  },
  {
   "cell_type": "code",
   "execution_count": 33,
   "metadata": {
    "colab": {},
    "colab_type": "code",
    "id": "aga62oeKVp_g"
   },
   "outputs": [],
   "source": [
    "answers['15'] = 0"
   ]
  },
  {
   "cell_type": "markdown",
   "metadata": {
    "colab_type": "text",
    "id": "mWHyyL7QVp_j"
   },
   "source": [
    "# 16. Какой актер снялся в большем количестве высокобюджетных фильмов?"
   ]
  },
  {
   "cell_type": "code",
   "execution_count": 34,
   "metadata": {
    "colab": {},
    "colab_type": "code",
    "id": "qQtmHKTFVp_k"
   },
   "outputs": [],
   "source": [
    "answers['16'] = 0"
   ]
  },
  {
   "cell_type": "markdown",
   "metadata": {
    "colab_type": "text",
    "id": "NIh6AaW5Vp_n"
   },
   "source": [
    "# 17. В фильмах какого жанра больше всего снимался Nicolas Cage? "
   ]
  },
  {
   "cell_type": "code",
   "execution_count": 36,
   "metadata": {
    "colab": {},
    "colab_type": "code",
    "id": "H74SJDIBVp_n"
   },
   "outputs": [],
   "source": [
    "\n",
    "answers['17'] = 'Action'"
   ]
  },
  {
   "cell_type": "markdown",
   "metadata": {
    "colab_type": "text",
    "id": "RqOmPRfWVp_q"
   },
   "source": [
    "# 18. Самый убыточный фильм от Paramount Pictures"
   ]
  },
  {
   "cell_type": "code",
   "execution_count": 38,
   "metadata": {},
   "outputs": [],
   "source": [
    "answers['18'] = 'The Love Guru (tt0811138) неверно'"
   ]
  },
  {
   "cell_type": "code",
   "execution_count": 39,
   "metadata": {
    "colab": {},
    "colab_type": "code",
    "id": "9E_B0Y96Vp_r",
    "scrolled": true
   },
   "outputs": [
    {
     "name": "stdout",
     "output_type": "stream",
     "text": [
      "        imdb_id    budget    revenue     profit                original_title                                               cast           director                                            tagline                                           overview  runtime                                     genres  \\\n",
      "335   tt1193138  25000000  163670000  138670000                 Up in the Air  George Clooney|Vera Farmiga|Anna Kendrick|Jaso...      Jason Reitman     The story of a man ready to make a connection.  George Clooney plays the dry cynical character...      109                              Drama|Romance   \n",
      "1117  tt0251127  50000000  177371441  127371441  How to Lose a Guy in 10 Days  Kate Hudson|Matthew McConaughey|Kathryn Hahn|A...      Donald Petrie             One of them is lying. So is the other.  An advice columnist, Andie Anderson (Kate Huds...      116                             Comedy|Romance   \n",
      "1026  tt1645170  65000000  179379533  114379533                  The Dictator  Sacha Baron Cohen|Sayed Badreya|Aasif Mandvi|M...      Larry Charles                                               kurd  The heroic story of a dictator who risks his l...       83                                     Comedy   \n",
      "1571  tt0377092  17000000  129042871  112042871                    Mean Girls  Lindsay Lohan|Rachel McAdams|Tim Meadows|Ana G...        Mark Waters                             Welcome to girl world.  Cady Heron is a hit with The Plastics, the A-l...       97                                     Comedy   \n",
      "1104  tt0332379  35000000  131282949   96282949            The School of Rock  Jack Black|Joan Cusack|Mike White|Sarah Silver...  Richard Linklater     He just landed the gig of his life: 5th grade.  Fired from his band and hard up for cash, guit...      108                               Comedy|Music   \n",
      "1518  tt0493430  11000000   72778712   61778712            Jackass Number Two  Johnny Knoxville|Bam Margera|Steve-O|Chris Pon...      Jeff Tremaine                    Guess who just made number two?  Jackass Number Two is a compilation of various...       95                  Action|Comedy|Documentary   \n",
      "911   tt0322802   5000000   64282312   59282312            Jackass: The Movie  Johnny Knoxville|Bam Margera|Steve-O|Chris Pon...      Jeff Tremaine                       Do not attempt this at home.  Johnny Knoxville and his crazy friends appear ...       87                                     Comedy   \n",
      "924   tt0264472  45000000   94935764   49935764                Changing Lanes  Ben Affleck|Samuel L. Jackson|Kim Staunton|Ton...      Roger Michell  An ambitious lawyer, a desperate father, they ...  A rush-hour fender-bender on New York City's c...       89            Action|Adventure|Crime|Thriller   \n",
      "896   tt0253754  60000000   67312826    7312826            Star Trek: Nemesis  Patrick Stewart|Jonathan Frakes|LeVar Burton|B...       Stuart Baird            A generation's final journey... begins.  En route to the honeymoon of William Riker to ...      117  Science Fiction|Action|Adventure|Thriller   \n",
      "1429  tt0408524  30000000   34252847    4252847                Bad News Bears  Billy Bob Thornton|Ken Medlock|Aman Johal|Greg...  Richard Linklater           The bases are loaded... so is the coach.  Morris Buttermaker is a burned-out minor leagu...      113                              Comedy|Family   \n",
      "1533  tt0408985  45000000   38399961   -6600039                  Last Holiday  Queen Latifah|LL Cool J|Timothy Hutton|Giancar...         Wayne Wang  She always thought she was somebody special......  After she's diagnosed with a terminal illness,...      112                     Adventure|Comedy|Drama   \n",
      "961   tt0261289  29000000   16930185  -12069815                  Serving Sara  Matthew Perry|Elizabeth Hurley|Vincent Pastore...    Reginald Hudlin  The One Thing That Could Bring Them Together I...  Serving Sara is a 2002 romantic comedy film wh...      100                             Comedy|Romance   \n",
      "436   tt0964517  25000000    9190869  -15809131                   The Fighter  Mark Wahlberg|Christian Bale|Amy Adams|Melissa...   David O. Russell            Every dream deserves a fighting chance.  The Fighter, is a drama about boxer \"Irish\" Mi...      116                                      Drama   \n",
      "587   tt0249478  75000000   54249294  -20750706          Domestic Disturbance  John Travolta|Vince Vaughn|Teri Polo|Matt O'Le...      Harold Becker         He will do anything to protect his family.  A divorced father discovers that his 12-year-o...       89                     Mystery|Thriller|Crime   \n",
      "\n",
      "     production_companies release_date  vote_average  release_year  \n",
      "335    Paramount Pictures     9/5/2009           6.6          2009  \n",
      "1117   Paramount Pictures     2/7/2003           6.2          2003  \n",
      "1026   Paramount Pictures    5/15/2012           5.9          2012  \n",
      "1571   Paramount Pictures    4/30/2004           6.8          2004  \n",
      "1104   Paramount Pictures    10/3/2003           6.6          2003  \n",
      "1518   Paramount Pictures    9/22/2006           6.4          2006  \n",
      "911    Paramount Pictures   10/21/2002           6.2          2002  \n",
      "924    Paramount Pictures     4/7/2002           5.7          2002  \n",
      "896    Paramount Pictures   12/12/2002           6.1          2002  \n",
      "1429   Paramount Pictures    7/22/2005           5.5          2005  \n",
      "1533   Paramount Pictures    1/13/2006           6.4          2006  \n",
      "961    Paramount Pictures    8/20/2002           5.1          2002  \n",
      "436    Paramount Pictures   12/17/2010           7.1          2010  \n",
      "587    Paramount Pictures   10/30/2001           5.4          2001  \n"
     ]
    }
   ],
   "source": [
    "filter_n1 = movies_df['production_companies'] == 'Paramount Pictures'\n",
    "print(movies_df.sort_values(by = ['profit'], ascending=False).loc[filter_n1])"
   ]
  },
  {
   "cell_type": "code",
   "execution_count": null,
   "metadata": {},
   "outputs": [],
   "source": []
  },
  {
   "cell_type": "markdown",
   "metadata": {
    "colab_type": "text",
    "id": "vS8Ur6ddVp_u"
   },
   "source": [
    "# 19. Какой год стал самым успешным по суммарным кассовым сборам?"
   ]
  },
  {
   "cell_type": "code",
   "execution_count": 40,
   "metadata": {},
   "outputs": [],
   "source": [
    "answers['19'] = 2015"
   ]
  },
  {
   "cell_type": "code",
   "execution_count": 41,
   "metadata": {
    "colab": {},
    "colab_type": "code",
    "id": "Dnbt4GdIVp_v"
   },
   "outputs": [
    {
     "name": "stdout",
     "output_type": "stream",
     "text": [
      "release_year\n",
      "2000     6101399805\n",
      "2001     7950614865\n",
      "2002     9002361487\n",
      "2003     9228823312\n",
      "2004     9634180720\n",
      "2005     8981925558\n",
      "2006     8691077320\n",
      "2007    11565911801\n",
      "2008    11663881990\n",
      "2009    13423744372\n",
      "2010    13531204961\n",
      "2011    14730241341\n",
      "2012    16077001687\n",
      "2013    15243179791\n",
      "2014    16397812953\n",
      "2015    18668572378\n",
      "Name: profit, dtype: int64\n"
     ]
    }
   ],
   "source": [
    "print(movies_df.groupby('release_year')['profit'].sum())"
   ]
  },
  {
   "cell_type": "markdown",
   "metadata": {
    "colab_type": "text",
    "id": "JAzJh4QAVp_z"
   },
   "source": [
    "# 20. Какой самый прибыльный год для студии Warner Bros?"
   ]
  },
  {
   "cell_type": "code",
   "execution_count": 42,
   "metadata": {},
   "outputs": [],
   "source": [
    "answers['20'] = 2014"
   ]
  },
  {
   "cell_type": "code",
   "execution_count": 43,
   "metadata": {
    "colab": {},
    "colab_type": "code",
    "id": "wgVu02DEVp_0"
   },
   "outputs": [
    {
     "name": "stdout",
     "output_type": "stream",
     "text": [
      "        imdb_id    budget    revenue    profit        original_title                                               cast                  director                                      tagline                                           overview  runtime                                 genres production_companies  \\\n",
      "731   tt1570728  50000000  142851197  92851197  Crazy, Stupid, Love.  Steve Carell|Julianne Moore|Ryan Gosling|Emma ...  Glenn Ficarra|John Requa                               This Is Stupid  Cal Weaver is living the American dream. He ha...      118                   Comedy|Drama|Romance         Warner Bros.   \n",
      "1282  tt0453562  40000000   95020213  55020213                    42  Chadwick Boseman|T.R. Knight|Harrison Ford|Nic...           Brian Helgeland         The True Story Of An American Legend  The powerful story of Jackie Robinson, the leg...      128                                  Drama         Warner Bros.   \n",
      "453   tt1385867  30000000   55583804  25583804               Cop Out  Bruce Willis|Tracy Morgan|Juan Carlos HernÃ¡nd...               Kevin Smith                 Rock out with your Glock out  Officers Jimmy Monroe and Paul Hodges have the...      107                    Action|Comedy|Crime         Warner Bros.   \n",
      "834   tt1334512  40000000   45735397   5735397                Arthur  Russell Brand|Helen Mirren|Greta Gerwig|Jennif...               Jason Winer  Meet the world's only loveable billionaire.  A drunken playboy stands to lose a wealthy inh...      110                         Comedy|Romance         Warner Bros.   \n",
      "438   tt1075747  47000000   10539000 -36461000             Jonah Hex  Josh Brolin|John Malkovich|Megan Fox|Michael F...             Jimmy Hayward                           Revenge gets ugly.  Gunsliger Jonah Hex (Josh Brolin) is appointed...       80  Action|Western|Drama|Fantasy|Thriller         Warner Bros.   \n",
      "\n",
      "     release_date  vote_average  release_year  \n",
      "731     7/29/2011           6.9          2011  \n",
      "1282    4/12/2013           6.8          2013  \n",
      "453     2/26/2010           5.5          2010  \n",
      "834      4/8/2011           5.3          2011  \n",
      "438     6/18/2010           4.4          2010  \n"
     ]
    }
   ],
   "source": [
    "filter_n1 = movies_df.production_companies.isin(['Warner Bros.'])\n",
    "print(movies_df.sort_values(by = ['profit'], ascending=False).loc[filter_n1])"
   ]
  },
  {
   "cell_type": "markdown",
   "metadata": {
    "colab_type": "text",
    "id": "8Im1S2HRVp_4"
   },
   "source": [
    "# 21. В каком месяце за все годы суммарно вышло больше всего фильмов?"
   ]
  },
  {
   "cell_type": "code",
   "execution_count": 44,
   "metadata": {},
   "outputs": [],
   "source": [
    "answers['21'] = 'Сентябрь верно'"
   ]
  },
  {
   "cell_type": "code",
   "execution_count": 45,
   "metadata": {
    "colab": {},
    "colab_type": "code",
    "id": "lev6TH7gVp_4"
   },
   "outputs": [
    {
     "name": "stdout",
     "output_type": "stream",
     "text": [
      "110\n",
      "135\n",
      "156\n",
      "149\n",
      "140\n",
      "147\n",
      "142\n",
      "161\n",
      "227\n",
      "186\n",
      "146\n",
      "190\n"
     ]
    }
   ],
   "source": [
    "data['release_date'] = pd.to_datetime(data['release_date'])\n",
    "data['month'] = data['release_date'].dt.month\n",
    "\n",
    "print(data.month[(data.month == 1)].count())\n",
    "print(data.month[(data.month == 2)].count())\n",
    "print(data.month[(data.month == 3)].count())\n",
    "print(data.month[(data.month == 4)].count())\n",
    "print(data.month[(data.month == 5)].count())\n",
    "print(data.month[(data.month == 6)].count())\n",
    "print(data.month[(data.month == 7)].count())\n",
    "print(data.month[(data.month == 8)].count())\n",
    "print(data.month[(data.month == 9)].count())\n",
    "print(data.month[(data.month == 10)].count())\n",
    "print(data.month[(data.month == 11)].count())\n",
    "print(data.month[(data.month == 12)].count())"
   ]
  },
  {
   "cell_type": "markdown",
   "metadata": {
    "colab_type": "text",
    "id": "uAJsZ_NeVp_7"
   },
   "source": [
    "# 22. Сколько суммарно вышло фильмов летом? (за июнь, июль, август)"
   ]
  },
  {
   "cell_type": "code",
   "execution_count": 46,
   "metadata": {},
   "outputs": [],
   "source": [
    "answers['22'] = 450"
   ]
  },
  {
   "cell_type": "code",
   "execution_count": 47,
   "metadata": {
    "colab": {},
    "colab_type": "code",
    "id": "Aa-hEREoVp_8"
   },
   "outputs": [
    {
     "name": "stdout",
     "output_type": "stream",
     "text": [
      "450\n"
     ]
    }
   ],
   "source": [
    "data['release_date'] = pd.to_datetime(data['release_date'])\n",
    "data['month'] = data['release_date'].dt.month\n",
    "\n",
    "print(data.month[(data.month == 6)].count() + data.month[(data.month == 7)].count() + data.month[(data.month == 8)].count())"
   ]
  },
  {
   "cell_type": "markdown",
   "metadata": {
    "colab_type": "text",
    "id": "G94ppOY1VqAA"
   },
   "source": [
    "# 23. Для какого режиссера зима – самое продуктивное время года? "
   ]
  },
  {
   "cell_type": "code",
   "execution_count": 0,
   "metadata": {
    "colab": {},
    "colab_type": "code",
    "id": "RhNTsamuVqAB"
   },
   "outputs": [],
   "source": [
    "answers['23'] = 'Peter Jackson'"
   ]
  },
  {
   "cell_type": "code",
   "execution_count": 48,
   "metadata": {},
   "outputs": [
    {
     "name": "stdout",
     "output_type": "stream",
     "text": [
      "size    (Peter Jackson, 12)\n",
      "dtype: object\n"
     ]
    },
    {
     "name": "stderr",
     "output_type": "stream",
     "text": [
      "/home/admin1/anaconda3/lib/python3.7/site-packages/pandas/core/generic.py:5303: SettingWithCopyWarning: \n",
      "A value is trying to be set on a copy of a slice from a DataFrame.\n",
      "Try using .loc[row_indexer,col_indexer] = value instead\n",
      "\n",
      "See the caveats in the documentation: https://pandas.pydata.org/pandas-docs/stable/user_guide/indexing.html#returning-a-view-versus-a-copy\n",
      "  self[name] = value\n"
     ]
    }
   ],
   "source": [
    "movies_df.release_date = pd.to_datetime(movies_df['release_date'])\n",
    "mm = movies_df['release_date'].dt.month\n",
    "print(movies_df.groupby(['director', mm]).size().to_frame('size').sort_values(['director', 'size'], ascending=[True, False]).idxmax())"
   ]
  },
  {
   "cell_type": "markdown",
   "metadata": {
    "colab_type": "text",
    "id": "RBo0JVjVVqAF"
   },
   "source": [
    "# 24. Какая студия дает самые длинные названия своим фильмам по количеству символов?"
   ]
  },
  {
   "cell_type": "code",
   "execution_count": 50,
   "metadata": {},
   "outputs": [],
   "source": [
    "answers['24'] = 'Warner Bros'"
   ]
  },
  {
   "cell_type": "code",
   "execution_count": 49,
   "metadata": {
    "colab": {},
    "colab_type": "code",
    "id": "QRGS8L0iVqAG"
   },
   "outputs": [
    {
     "name": "stdout",
     "output_type": "stream",
     "text": [
      "        imdb_id     budget    revenue     profit                                     original_title                                               cast          director  ... runtime                                             genres                               production_companies release_date vote_average  \\\n",
      "1448  tt0443453   18000000  261572744  243572744  Borat: Cultural Learnings of America for Make ...  Sacha Baron Cohen|Ken Davitian|Luenell|Pamela ...     Larry Charles  ...      82                                             Comedy  Twentieth Century Fox Film Corporation|Four By...   2006-11-02          6.4   \n",
      "1314  tt0363771  180000000  748806957  568806957  The Chronicles of Narnia: The Lion, the Witch ...  William Moseley|Anna Popplewell|Skandar Keynes...    Andrew Adamson  ...     143                           Adventure|Family|Fantasy                           Walt Disney|Walden Media   2005-12-07          6.5   \n",
      "219   tt1698641   28000000  100654149   72654149  Alexander and the Terrible, Horrible, No Good,...  Steve Carell|Jennifer Garner|Ed Oxenbould|Dyla...     Miguel Arteta  ...      81                                      Family|Comedy  Walt Disney Pictures|21 Laps Entertainment|Jim...   2014-10-08          6.2   \n",
      "1751  tt0443680   30000000   14711793  -15288207  The Assassination of Jesse James by the Coward...  Brad Pitt|Casey Affleck|Sam Shepard|Mary-Louis...    Andrew Dominik  ...     160                               Action|Drama|Western  Plan B Entertainment|Virtual Studios|Scott Fre...   2007-09-02          6.9   \n",
      "385   tt0980970  155000000  415686217  260686217  The Chronicles of Narnia: The Voyage of the Da...  Skandar Keynes|Georgie Henley|Simon Pegg|Gary ...     Michael Apted  ...     113                           Adventure|Family|Fantasy  Dune Entertainment|Fox 2000 Pictures|Walden Media   2010-08-13          6.0   \n",
      "...         ...        ...        ...        ...                                                ...                                                ...               ...  ...     ...                                                ...                                                ...          ...          ...   \n",
      "1483  tt0449089   50000000   87528173   37528173                                                 RV  Robin Williams|Cheryl Hines|Joanna 'JoJo' Leve...  Barry Sonnenfeld  ...      99                            Comedy|Family|Adventure                                  Columbia Pictures   2006-04-28          5.7   \n",
      "714   tt1175491   25100000   29506464    4406464                                                 W.  Josh Brolin|Elizabeth Banks|Ellen Burstyn|Ioan...      Oliver Stone  ...     131                                      Drama|History  Ixtlan Productions|Emperor Motion Pictures|Glo...   2008-10-17          5.6   \n",
      "1172  tt0290334  110000000  214948780  104948780                                                 X2  Patrick Stewart|Hugh Jackman|Ian McKellen|Hall...      Bryan Singer  ...     133          Adventure|Action|Science Fiction|Thriller  Twentieth Century Fox Film Corporation|Donners...   2003-04-24          6.7   \n",
      "1282  tt0453562   40000000   95020213   55020213                                                 42  Chadwick Boseman|T.R. Knight|Harrison Ford|Nic...   Brian Helgeland  ...     128                                              Drama                                       Warner Bros.   2013-04-12          6.8   \n",
      "252   tt0472033   30000000   48428063   18428063                                                  9  Elijah Wood|John C. Reilly|Jennifer Connelly|C...       Shane Acker  ...      79  Action|Adventure|Animation|Science Fiction|Thr...  Focus Films|Starz Animation|Relativity Media|T...   2009-08-19          6.5   \n",
      "\n",
      "     release_year  len_orig_title  \n",
      "1448         2006              83  \n",
      "1314         2005              62  \n",
      "219          2014              59  \n",
      "1751         2007              58  \n",
      "385          2010              56  \n",
      "...           ...             ...  \n",
      "1483         2006               2  \n",
      "714          2008               2  \n",
      "1172         2003               2  \n",
      "1282         2013               2  \n",
      "252          2009               1  \n",
      "\n",
      "[1889 rows x 16 columns]\n"
     ]
    }
   ],
   "source": [
    "orig_title = movies_df['original_title'].tolist()\n",
    "\n",
    "len_orig_title = []\n",
    "for i in orig_title:\n",
    "    ll = len(i)\n",
    "    len_orig_title.append(ll)\n",
    "\n",
    "df = pd.DataFrame(len_orig_title, columns =['len_orig_title'])\n",
    "movies_df = pd.concat([movies_df, df], axis=1)\n",
    "print(movies_df.sort_values('len_orig_title', ascending=False))"
   ]
  },
  {
   "cell_type": "markdown",
   "metadata": {
    "colab_type": "text",
    "id": "9G0hbvR7VqAK"
   },
   "source": [
    "# 25. Описание фильмов какой студии в среднем самые длинные по количеству слов?"
   ]
  },
  {
   "cell_type": "code",
   "execution_count": 52,
   "metadata": {
    "colab": {},
    "colab_type": "code",
    "id": "Ge2GsLNxVqAK"
   },
   "outputs": [],
   "source": [
    "answers['25'] = 'Paramount Pictures'"
   ]
  },
  {
   "cell_type": "code",
   "execution_count": 51,
   "metadata": {},
   "outputs": [
    {
     "name": "stdout",
     "output_type": "stream",
     "text": [
      "        imdb_id     budget    revenue     profit           original_title                                               cast                        director  ...                                     genres                               production_companies  release_date vote_average release_year len_orig_title  \\\n",
      "711   tt0805570   15000000    3533227  -11466773  The Midnight Meat Train  Bradley Cooper|Vinnie Jones|Brooke Shields|Les...                RyÃ»hei Kitamura  ...        Mystery|Drama|Crime|Thriller|Horror  Lions Gate Films|Lakeshore Entertainment|Green...    2008-08-07          5.7         2008             23   \n",
      "170   tt1267297  100000000  243400000  143400000                 Hercules  Dwayne Johnson|Ian McShane|John Hurt|Rufus Sew...                    Brett Ratner  ...                           Action|Adventure  Paramount Pictures|Metro-Goldwyn-Mayer (MGM)|R...    2014-07-23          5.6         2014              8   \n",
      "964   tt0278295   14000000   25482931   11482931  All About the Benjamins  Ice Cube|Mike Epps|Tommy Flanagan|Carmen Chapl...                      Kevin Bray  ...                    Action|Adventure|Comedy                                    New Line Cinema    2002-03-08          6.4         2002             23   \n",
      "1373  tt0427944    6500000   24793509   18293509    Thank You for Smoking  Aaron Eckhart|Maria Bello|Cameron Bright|Adam ...                   Jason Reitman  ...                               Comedy|Drama      Fox Searchlight Pictures|Room 9 Entertainment    2005-09-05          7.1         2005             21   \n",
      "823   tt1637706   10000000   17273593    7273593        Our Idiot Brother  Paul Rudd|Elizabeth Banks|Zooey Deschanel|Emil...                    Jesse Peretz  ...                               Comedy|Drama                              The Weinstein Company    2011-08-26          5.7         2011             17   \n",
      "947   tt0265662   20000000   75597042   55597042               The Rookie  Dennis Quaid|Rachel Griffiths|Beth Grant|Angus...                John Lee Hancock  ...                               Drama|Family  Walt Disney Pictures|Gran Via Productions|98 M...    2002-03-25          6.0         2002             10   \n",
      "1086  tt0234215  150000000  738599701  588599701      The Matrix Reloaded  Keanu Reeves|Carrie-Anne Moss|Laurence Fishbur...  Lilly Wachowski|Lana Wachowski  ...  Adventure|Action|Thriller|Science Fiction  Village Roadshow Pictures|NPV Entertainment|He...    2003-05-15          6.6         2003             19   \n",
      "1112  tt0305224   75000000  195745823  120745823         Anger Management  Adam Sandler|Jack Nicholson|Luis GuzmÃ¡n|Maris...                     Peter Segal  ...                                     Comedy  Columbia Pictures|Revolution Studios|Happy Mad...    2003-04-11          5.9         2003             16   \n",
      "841   tt1596346   18000000   47088990   29088990              Soul Surfer  AnnaSophia Robb|Helen Hunt|Lorraine Nicholson|...                   Sean McNamara  ...                               Action|Drama  Mandalay Pictures|TriStar Pictures|Brookwell-M...    2011-04-08          6.9         2011             11   \n",
      "957   tt0275022   12000000   61141030   49141030               Crossroads  Britney Spears|Zoe Saldana|Taryn Manning|Anson...                     Tamra Davis  ...       Action|Adventure|Comedy|Drama|Family                       Paramount Pictures|MTV Films    2002-02-15          5.1         2002             10   \n",
      "\n",
      "      len_overview  \n",
      "711            175  \n",
      "170            169  \n",
      "964            166  \n",
      "1373           161  \n",
      "823            160  \n",
      "947            159  \n",
      "1086           159  \n",
      "1112           159  \n",
      "841            156  \n",
      "957            155  \n",
      "\n",
      "[10 rows x 17 columns]\n"
     ]
    }
   ],
   "source": [
    "overview = movies_df['overview'].tolist()\n",
    "\n",
    "len_overview = []\n",
    "for i in overview:\n",
    "    ll = len(i.split())\n",
    "    len_overview.append(ll)\n",
    "\n",
    "df = pd.DataFrame(len_overview, columns =['len_overview'])\n",
    "movies_df = pd.concat([movies_df, df], axis=1)\n",
    "print((movies_df.sort_values('len_overview', ascending=False)).head(10))"
   ]
  },
  {
   "cell_type": "markdown",
   "metadata": {
    "colab_type": "text",
    "id": "FJ1AFt90VqAP"
   },
   "source": [
    "# 26. Какие фильмы входят в 1 процент лучших по рейтингу? \n",
    "по vote_average"
   ]
  },
  {
   "cell_type": "code",
   "execution_count": 53,
   "metadata": {
    "colab": {},
    "colab_type": "code",
    "id": "8qmJVq4CVqAQ"
   },
   "outputs": [],
   "source": [
    "answers['26'] = 'Inside Out, The Dark Knight, 12 Years a Slave'"
   ]
  },
  {
   "cell_type": "code",
   "execution_count": 54,
   "metadata": {},
   "outputs": [
    {
     "name": "stdout",
     "output_type": "stream",
     "text": [
      "        imdb_id     budget     revenue      profit                                     original_title                                               cast                 director  ...                                             genres                               production_companies  release_date vote_average  \\\n",
      "9     tt2096673  175000000   853708609   678708609                                         Inside Out  Amy Poehler|Phyllis Smith|Richard Kind|Bill Ha...              Pete Docter  ...                            Comedy|Animation|Family  Walt Disney Pictures|Pixar Animation Studios|W...    2015-06-09          8.0   \n",
      "28    tt1895587   20000000    88346473    68346473                                          Spotlight  Mark Ruffalo|Michael Keaton|Rachel McAdams|Lie...             Tom McCarthy  ...                             Drama|Thriller|History  Participant Media|Open Road Films|Anonymous Co...    2015-11-06          7.8   \n",
      "34    tt3170832    6000000    35401758    29401758                                               Room  Brie Larson|Jacob Tremblay|Joan Allen|Sean Bri...         Lenny Abrahamson  ...                                     Drama|Thriller  Element Pictures|No Trace Camping|A24|Duperele...    2015-10-16          8.0   \n",
      "118   tt0816692  165000000   621752480   456752480                                       Interstellar  Matthew McConaughey|Jessica Chastain|Anne Hath...        Christopher Nolan  ...                    Adventure|Drama|Science Fiction  Paramount Pictures|Legendary Pictures|Warner B...    2014-11-05          8.0   \n",
      "119   tt2015381  170000000   773312399   603312399                            Guardians of the Galaxy  Chris Pratt|Zoe Saldana|Dave Bautista|Vin Dies...               James Gunn  ...                   Action|Science Fiction|Adventure  Marvel Studios|Moving Picture Company (MPC)|Bu...    2014-07-30          7.9   \n",
      "124   tt2245084  165000000   652105443   487105443                                         Big Hero 6  Scott Adsit|Ryan Potter|Daniel Henney|T.J. Mil...  Don Hall|Chris Williams  ...           Adventure|Family|Animation|Action|Comedy  Walt Disney Pictures|Walt Disney Animation Stu...    2014-10-24          7.8   \n",
      "125   tt2084970   14000000   233555708   219555708                                 The Imitation Game  Benedict Cumberbatch|Keira Knightley|Matthew G...            Morten Tyldum  ...                         History|Drama|Thriller|War             Black Bear Pictures|Bristol Automotive    2014-11-14          8.0   \n",
      "128   tt2267998   61000000   369330363   308330363                                          Gone Girl  Ben Affleck|Rosamund Pike|Carrie Coon|Neil Pat...            David Fincher  ...                             Mystery|Thriller|Drama  Twentieth Century Fox Film Corporation|Regency...    2014-10-01          7.9   \n",
      "138   tt2278388   30000000   174600318   144600318                           The Grand Budapest Hotel  Ralph Fiennes|Tony Revolori|F. Murray Abraham|...             Wes Anderson  ...                                       Comedy|Drama  Fox Searchlight Pictures|Scott Rudin Productio...    2014-02-26          7.9   \n",
      "155   tt2980516   15000000   121201940   106201940                           The Theory of Everything  Eddie Redmayne|Felicity Jones|Harry Lloyd|Davi...              James Marsh  ...                                      Drama|Romance                                Working Title Films    2014-11-26          7.8   \n",
      "177   tt2582846   12000000   305151265   293151265                             The Fault in Our Stars  Shailene Woodley|Ansel Elgort|Nat Wolff|Laura ...               Josh Boone  ...                                      Romance|Drama  Fox 2000 Pictures|Temple Hill Entertainment|TS...    2014-05-16          7.8   \n",
      "283   tt0485947   47000000     3547209   -43452791                                         Mr. Nobody  Jared Leto|Diane Kruger|Linh Äan Pháº¡m|Sarah ...         Jaco Van Dormael  ...              Science Fiction|Drama|Romance|Fantasy           Pan EuropÃ©enne Production|Virtual Films    2009-09-11          7.8   \n",
      "316   tt1187043    9000000    70000000    61000000                                           3 Idiots  Aamir Khan|Kareena Kapoor|Madhavan|Sharman Jos...          Rajkumar Hirani  ...                               Drama|Comedy|Romance                     Vidhu Vinod Chopra Productions    2009-12-23          7.8   \n",
      "370   tt1375666  160000000   825500000   665500000                                          Inception  Leonardo DiCaprio|Joseph Gordon-Levitt|Ellen P...        Christopher Nolan  ...  Action|Thriller|Science Fiction|Mystery|Adventure            Legendary Pictures|Warner Bros.|Syncopy    2010-07-14          7.9   \n",
      "496   tt0120737   93000000   871368364   778368364  The Lord of the Rings: The Fellowship of the Ring  Elijah Wood|Ian McKellen|Viggo Mortensen|Liv T...            Peter Jackson  ...                           Adventure|Fantasy|Action  WingNut Films|New Line Cinema|The Saul Zaentz ...    2001-12-18          7.8   \n",
      "599   tt0468569  185000000  1001921825   816921825                                    The Dark Knight  Christian Bale|Michael Caine|Heath Ledger|Aaro...        Christopher Nolan  ...                        Drama|Action|Crime|Thriller  DC Comics|Legendary Pictures|Warner Bros.|Syncopy    2008-07-16          8.1   \n",
      "863   tt0167261   79000000   926287400   847287400              The Lord of the Rings: The Two Towers  Elijah Wood|Ian McKellen|Viggo Mortensen|Liv T...            Peter Jackson  ...                           Adventure|Fantasy|Action  WingNut Films|New Line Cinema|The Saul Zaentz ...    2002-12-18          7.8   \n",
      "872   tt0253474   35000000   120072577    85072577                                        The Pianist  Adrien Brody|Thomas Kretschmann|Frank Finlay|M...           Roman Polanski  ...                                          Drama|War  Bac Films|Canal+Polska|Heritage Films|Studio B...    2002-09-24          7.9   \n",
      "1081  tt0167260   94000000  1118888979  1024888979      The Lord of the Rings: The Return of the King  Elijah Wood|Ian McKellen|Viggo Mortensen|Liv T...            Peter Jackson  ...                           Adventure|Fantasy|Action                      WingNut Films|New Line Cinema    2003-12-01          7.9   \n",
      "1183  tt0993846  100000000   392000694   292000694                            The Wolf of Wall Street  Leonardo DiCaprio|Jonah Hill|Margot Robbie|Kyl...          Martin Scorsese  ...                                 Crime|Drama|Comedy  Paramount Pictures|Appian Way|EMJAG Production...    2013-12-25          7.9   \n",
      "1188  tt1798709   23000000    47351251    24351251                                                Her  Joaquin Phoenix|Scarlett Johansson|Rooney Mara...              Spike Jonze  ...                      Romance|Science Fiction|Drama                                 Annapurna Pictures    2013-12-18          7.8   \n",
      "1191  tt2024544   20000000   187000000   167000000                                   12 Years a Slave  Chiwetel Ejiofor|Michael Fassbender|Lupita Nyo...            Steve McQueen  ...                                      Drama|History  Plan B Entertainment|Regency Enterprises|River...    2013-10-18          7.9   \n",
      "1205  tt1392214   46000000   122126687    76126687                                          Prisoners  Hugh Jackman|Jake Gyllenhaal|Paul Dano|Maria B...         Denis Villeneuve  ...                               Drama|Thriller|Crime  Alcon Entertainment|Madhouse Entertainment|8:3...    2013-09-18          7.8   \n",
      "1213  tt0790636    5000000    55198285    50198285                                 Dallas Buyers Club  Matthew McConaughey|Jennifer Garner|Jared Leto...        Jean-Marc VallÃ©e  ...                                      Drama|History  Universal Studios|Universal Pictures|Voltage P...    2013-09-07          7.8   \n",
      "1444  tt0482571   40000000   109676311    69676311                                       The Prestige  Hugh Jackman|Christian Bale|Michael Caine|Scar...        Christopher Nolan  ...                             Drama|Mystery|Thriller                        Touchstone Pictures|Syncopy    2006-10-19          7.8   \n",
      "1563  tt0338013   20000000    72258126    52258126              Eternal Sunshine of the Spotless Mind  Jim Carrey|Kate Winslet|Elijah Wood|Mark Ruffa...            Michel Gondry  ...                      Science Fiction|Drama|Romance  Anonymous Content|This Is That Productions|Foc...    2004-03-19          7.8   \n",
      "1688  tt0469494   25000000    76181545    51181545                                There Will Be Blood  Daniel Day-Lewis|Paul Dano|Dillon Freasier|Cia...     Paul Thomas Anderson  ...                                              Drama  Miramax Films|Ghoulardi Film Company|Paramount...    2007-12-28          7.8   \n",
      "1800  tt0209144    9000000    39723096    30723096                                            Memento  Guy Pearce|Carrie-Anne Moss|Joe Pantoliano|Mar...        Christopher Nolan  ...                                   Mystery|Thriller  Summit Entertainment|Newmarket Capital Group|T...    2000-10-11          7.9   \n",
      "\n",
      "     release_year len_orig_title  len_overview  \n",
      "9            2015             10           112  \n",
      "28           2015              9            30  \n",
      "34           2015              4            49  \n",
      "118          2014             12            35  \n",
      "119          2014             23            28  \n",
      "124          2014             10            29  \n",
      "125          2014             18            46  \n",
      "128          2014              9            30  \n",
      "138          2014             24            66  \n",
      "155          2014             24            14  \n",
      "177          2014             22            47  \n",
      "283          2009             10            25  \n",
      "316          2009              8           103  \n",
      "370          2010              9            44  \n",
      "496          2001             49            63  \n",
      "599          2008             15            67  \n",
      "863          2002             37            41  \n",
      "872          2002             11            39  \n",
      "1081         2003             45            45  \n",
      "1183         2013             23            29  \n",
      "1188         2013              3            65  \n",
      "1191         2013             16            61  \n",
      "1205         2013              9            39  \n",
      "1213         2013             18            27  \n",
      "1444         2006             12            29  \n",
      "1563         2004             37            46  \n",
      "1688         2007             19           100  \n",
      "1800         2000              7            78  \n",
      "\n",
      "[28 rows x 17 columns] ['profit']\n"
     ]
    }
   ],
   "source": [
    "qq = movies_df.vote_average.quantile(0.99)\n",
    "print(movies_df[movies_df['vote_average'] >= qq],['profit'])"
   ]
  },
  {
   "cell_type": "markdown",
   "metadata": {
    "colab_type": "text",
    "id": "MdXsUXbCVqAV"
   },
   "source": [
    "# 27. Какие актеры чаще всего снимаются в одном фильме вместе?\n"
   ]
  },
  {
   "cell_type": "markdown",
   "metadata": {
    "colab_type": "text",
    "id": "4ymnxEVoVqAW"
   },
   "source": [
    "ВАРИАНТ 2"
   ]
  },
  {
   "cell_type": "markdown",
   "metadata": {
    "colab_type": "text",
    "id": "U0nONFnGVqAX"
   },
   "source": [
    "# Submission"
   ]
  },
  {
   "cell_type": "code",
   "execution_count": 0,
   "metadata": {
    "colab": {},
    "colab_type": "code",
    "id": "IfcaRO9-VqAX",
    "outputId": "0f132912-32bb-4196-c98c-abfbc4ad5a5f"
   },
   "outputs": [
    {
     "data": {
      "text/plain": [
       "{'1': '...', '2': '...'}"
      ]
     },
     "execution_count": 8,
     "metadata": {
      "tags": []
     },
     "output_type": "execute_result"
    }
   ],
   "source": [
    "# в конце можно посмотреть свои ответы к каждому вопросу\n",
    "answers"
   ]
  },
  {
   "cell_type": "code",
   "execution_count": 0,
   "metadata": {
    "colab": {},
    "colab_type": "code",
    "id": "SiRmHPl8VqAd"
   },
   "outputs": [],
   "source": [
    "# и убедиться что ни чего не пропустил)\n",
    "len(answers)"
   ]
  },
  {
   "cell_type": "code",
   "execution_count": 0,
   "metadata": {
    "colab": {},
    "colab_type": "code",
    "id": "uCfuTkRbVqAg"
   },
   "outputs": [],
   "source": []
  },
  {
   "cell_type": "code",
   "execution_count": 0,
   "metadata": {
    "colab": {},
    "colab_type": "code",
    "id": "Vwx3NrkSVqAl"
   },
   "outputs": [],
   "source": []
  }
 ],
 "metadata": {
  "colab": {
   "name": "Copy of [SF-DST] Movies IMBD v4.1 TEMPLATE.ipynb",
   "provenance": []
  },
  "kernelspec": {
   "display_name": "Python 3",
   "language": "python",
   "name": "python3"
  },
  "language_info": {
   "codemirror_mode": {
    "name": "ipython",
    "version": 3
   },
   "file_extension": ".py",
   "mimetype": "text/x-python",
   "name": "python",
   "nbconvert_exporter": "python",
   "pygments_lexer": "ipython3",
   "version": "3.7.6"
  }
 },
 "nbformat": 4,
 "nbformat_minor": 1
}
